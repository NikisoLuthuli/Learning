{
 "cells": [
  {
   "cell_type": "markdown",
   "id": "62df949a-2116-4dc4-8b2b-46af002492b2",
   "metadata": {},
   "source": [
    "*U.S. Medical Insurance Costs*\n",
    "\n",
    "In this project I would like to explore which regions have the highest insurance costs and what might be causing the higher medical insurance costs.\n",
    "\n",
    "First, I need to prepare the data for analysis. It is currently in CSV format and will need to be imported and stored in list variables on python.\n",
    "\n",
    "Secondly, I will then analyse the data to find corelations in information and possible trends. By splitting the insurance costs into groups and identifying comonalities between the patient information. I will also be able to identify the regions with the highest insurance costs in this way.\n",
    "\n",
    "Lastly, I will summarize my findings and give a report on what I set out to find"
   ]
  },
  {
   "cell_type": "code",
   "execution_count": 2,
   "id": "fff95530-ee56-493c-8da2-f57b5c7a7ee7",
   "metadata": {},
   "outputs": [],
   "source": [
    "# Import csv\n",
    "import csv"
   ]
  },
  {
   "cell_type": "code",
   "execution_count": 3,
   "id": "f276714c-7337-498d-b96c-9a20e220c2f4",
   "metadata": {},
   "outputs": [],
   "source": [
    "# Create lists for the data\n",
    "age = []\n",
    "sex = []\n",
    "bmi = []\n",
    "children = []\n",
    "smoker = []\n",
    "region = []\n",
    "cost = []\n",
    "insurance_data = []"
   ]
  },
  {
   "cell_type": "code",
   "execution_count": 4,
   "id": "36d7da38-b4ee-4137-93a1-fd6377ec35ff",
   "metadata": {},
   "outputs": [],
   "source": [
    "# Populate Lists with data\n",
    "with open('insurance.csv') as insurance_csv:\n",
    "    insurance_info = csv.DictReader(insurance_csv)\n",
    "    for row in insurance_info:\n",
    "        insurance_data.append(row)\n",
    "        age.append(row['age'])\n",
    "        sex.append(row['sex'])\n",
    "        bmi.append(row['bmi'])\n",
    "        children.append(row['children'])\n",
    "        smoker.append(row['smoker'])\n",
    "        region.append(row['region'])\n",
    "        cost.append(row['charges'])"
   ]
  },
  {
   "cell_type": "code",
   "execution_count": 5,
   "id": "2390ab01-d929-4399-a3e7-05ce23ebd771",
   "metadata": {},
   "outputs": [
    {
     "name": "stdout",
     "output_type": "stream",
     "text": [
      "Male: 676\n",
      "Female: 662\n"
     ]
    }
   ],
   "source": [
    "# counting how many males and females have medical insurance\n",
    "def sex_count(sex):\n",
    "    sex_male = 0\n",
    "    sex_female = 0\n",
    "    for gender in sex:\n",
    "        if gender == 'male':\n",
    "            sex_male += 1\n",
    "        elif gender == 'female':\n",
    "            sex_female += 1\n",
    "    print('Male: {}'.format(sex_male))\n",
    "    print( 'Female: {}'.format(sex_female))\n",
    "sex_count(sex)\n",
    "\n"
   ]
  },
  {
   "cell_type": "code",
   "execution_count": 6,
   "id": "332d5d00-507d-42f8-81b9-1fa019acbbf7",
   "metadata": {},
   "outputs": [
    {
     "name": "stdout",
     "output_type": "stream",
     "text": [
      "{'southwest': 325, 'southeast': 364, 'northwest': 325, 'northeast': 324}\n"
     ]
    }
   ],
   "source": [
    "# identifying different regions\n",
    "def unique_region(region):\n",
    "    unique_region = []\n",
    "    unique_count = []\n",
    "    for place in region:\n",
    "        if place not in unique_region:\n",
    "            unique_region.append(place)\n",
    "    # counting how many patients in each region\n",
    "    for i in unique_region:\n",
    "        unique_count.append(region.count(i))\n",
    "    # create dictionary showing each region and number of patients\n",
    "    region_count = {key: value for key, value in zip(unique_region, unique_count)}\n",
    "    return region_count\n",
    "unique_region = unique_region(region)\n",
    "print(unique_region)\n",
    "    "
   ]
  },
  {
   "cell_type": "code",
   "execution_count": 7,
   "id": "2f751e09-6f9f-4991-81e7-678eb46a6b1c",
   "metadata": {},
   "outputs": [
    {
     "name": "stdout",
     "output_type": "stream",
     "text": [
      "Minimum Age: 18\n",
      "Average Age: 39\n",
      "Maximum Age: 64\n"
     ]
    }
   ],
   "source": [
    "# calculate the min, average and max ages\n",
    "def age_summary(age):\n",
    "    age_total = 0\n",
    "    for i in age:\n",
    "        age_total += int(i)\n",
    "    average_age = round(age_total/len(age))\n",
    "    min_age = min(age)\n",
    "    max_age = max(age)\n",
    "    print('Minimum Age: {}'.format(min_age))\n",
    "    print('Average Age: {}'.format(average_age))\n",
    "    print('Maximum Age: {}'.format(max_age))\n",
    "age_summary(age)"
   ]
  },
  {
   "cell_type": "code",
   "execution_count": 8,
   "id": "f3800af0-fce6-4785-91fa-61d3900b269f",
   "metadata": {},
   "outputs": [
    {
     "name": "stdout",
     "output_type": "stream",
     "text": [
      "Average Insurance Cost: 13270.42\n"
     ]
    }
   ],
   "source": [
    "# calculate the average cost of insurance\n",
    "def average_cost(cost):\n",
    "    cost_total = 0\n",
    "    for i in cost:\n",
    "        cost_total += float(i)\n",
    "    average_cost = round(cost_total/len(cost), 2)\n",
    "    print('Average Insurance Cost: {}'.format(average_cost))\n",
    "average_cost(cost)"
   ]
  },
  {
   "cell_type": "code",
   "execution_count": 9,
   "id": "75698820-a277-45ff-8ed3-e53d65eafcda",
   "metadata": {},
   "outputs": [
    {
     "data": {
      "text/plain": [
       "{'southwest': 12346.94,\n",
       " 'southeast': 14735.41,\n",
       " 'northwest': 12417.58,\n",
       " 'northeast': 13406.38}"
      ]
     },
     "execution_count": 9,
     "metadata": {},
     "output_type": "execute_result"
    }
   ],
   "source": [
    "# create function to calculate average insurance cost\n",
    "def average_cost(data, region):\n",
    "    cost_total = 0\n",
    "    cost_len = 0\n",
    "    for info in data:\n",
    "        if info['region'] == region:\n",
    "            cost_total += float(info['charges'])\n",
    "            cost_len += 1\n",
    "    average_cost = cost_total/cost_len\n",
    "    return average_cost\n",
    "\n",
    "# create fuction to iterate through unique regions\n",
    "def average_cost_by_region(data, unique_region):\n",
    "    keys = list(unique_region.keys())\n",
    "    cost = []\n",
    "    index = 0\n",
    "    for i in unique_region:\n",
    "        cost.append(round(average_cost(data ,keys[index]), 2))\n",
    "        index += 1\n",
    "    cost_by_region ={key: value for key, value in zip(keys, cost)}\n",
    "    return cost_by_region\n",
    "\n",
    "average_cost_by_region(insurance_data, unique_region)"
   ]
  },
  {
   "cell_type": "code",
   "execution_count": 10,
   "id": "9542dbfe-a187-4826-89e3-b88a0c8c03f4",
   "metadata": {},
   "outputs": [
    {
     "data": {
      "text/plain": [
       "{'southwest': 30.6, 'southeast': 33.36, 'northwest': 29.2, 'northeast': 29.17}"
      ]
     },
     "execution_count": 10,
     "metadata": {},
     "output_type": "execute_result"
    }
   ],
   "source": [
    "# create function to calculate average bmi\n",
    "def average_bmi(data, region):\n",
    "    bmi_total = 0\n",
    "    bmi_len = 0\n",
    "    for info in data:\n",
    "        if info['region'] == region:\n",
    "            bmi_total += float(info['bmi'])\n",
    "            bmi_len += 1\n",
    "    average_bmi = bmi_total/bmi_len\n",
    "    return average_bmi\n",
    "# create fuction to iterate through unique regions\n",
    "def average_bmi_by_region(data, unique_region):\n",
    "    keys = list(unique_region.keys())\n",
    "    bmi = []\n",
    "    index = 0\n",
    "    for i in unique_region:\n",
    "        bmi.append(round(average_bmi(data ,keys[index]), 2))\n",
    "        index += 1\n",
    "    bmi_by_region ={key: value for key, value in zip(keys, bmi)}\n",
    "    return bmi_by_region\n",
    "\n",
    "average_bmi_by_region(insurance_data, unique_region)\n"
   ]
  },
  {
   "cell_type": "code",
   "execution_count": 11,
   "id": "f3bd5eed-c4f0-4faf-8ca5-8ceb44fb849f",
   "metadata": {},
   "outputs": [
    {
     "name": "stdout",
     "output_type": "stream",
     "text": [
      "274\n"
     ]
    },
    {
     "data": {
      "text/plain": [
       "{'southwest': 58, 'southeast': 91, 'northwest': 58, 'northeast': 67}"
      ]
     },
     "execution_count": 11,
     "metadata": {},
     "output_type": "execute_result"
    }
   ],
   "source": [
    "# number of smokers\n",
    "smoker_count = 0 \n",
    "for i in smoker:\n",
    "    if i == 'yes':\n",
    "        smoker_count += 1\n",
    "print(smoker_count)\n",
    "\n",
    "# counting number of smokers by region\n",
    "def smokers_by_region(data, unique_region):\n",
    "    keys = list(unique_region.keys())\n",
    "    smokers = []\n",
    "    index = 0\n",
    "    for i in keys:\n",
    "        smoker = []\n",
    "        for info in data:\n",
    "            if info['region'] == i:\n",
    "                smoker.append(info['smoker'])\n",
    "        count = 0\n",
    "        for x in smoker:\n",
    "            if x == 'yes':\n",
    "                count += 1\n",
    "        smokers.append(count)\n",
    "    smokers_by_region = {key: value for key, value in zip(keys, smokers)}\n",
    "    return smokers_by_region\n",
    "    \n",
    "smokers_by_region(insurance_data, unique_region)"
   ]
  },
  {
   "cell_type": "code",
   "execution_count": 12,
   "id": "3914c451-4542-4e85-af44-cbf62cb11914",
   "metadata": {},
   "outputs": [
    {
     "name": "stdout",
     "output_type": "stream",
     "text": [
      "764\n"
     ]
    },
    {
     "data": {
      "text/plain": [
       "{'southwest': 187, 'southeast': 207, 'northwest': 193, 'northeast': 177}"
      ]
     },
     "execution_count": 12,
     "metadata": {},
     "output_type": "execute_result"
    }
   ],
   "source": [
    "# the total number of patients with children\n",
    "patient_with_children = 0 \n",
    "for i in children:\n",
    "    if int(i) > 0:\n",
    "        patient_with_children += 1\n",
    "print(patient_with_children)\n",
    "        \n",
    "# counting number of patients with children in each region\n",
    "def children_by_region(data, unique_region):\n",
    "    keys = list(unique_region.keys())\n",
    "    children = []\n",
    "    index = 0\n",
    "    for i in keys:\n",
    "        child = []\n",
    "        for info in data:\n",
    "            if info['region'] == i:\n",
    "                child.append(int(info['children']))\n",
    "        count = 0\n",
    "        for x in child:\n",
    "            if x > 0:\n",
    "                count += 1\n",
    "        children.append(count)\n",
    "    children_by_region = {key: value for key, value in zip(keys, children)}\n",
    "    return children_by_region\n",
    "\n",
    "children_by_region(insurance_data, unique_region)"
   ]
  },
  {
   "cell_type": "markdown",
   "id": "57fa7e2a-2bc6-4ffd-a4d2-b8793b11ffee",
   "metadata": {},
   "source": [
    "**Summary of findings**\n",
    "\n",
    "Working with a dataset with 1338 total patient entries with a gender split of:\n",
    "    males: 676\n",
    "    females: 662\n",
    "    \n",
    "The average age of the patients was 39 years \n",
    "The average insurance cost for a patient was 13270.42 Dollars\n",
    "There was a total of 274 smokers and 764 patients had a child/children. \n",
    "\n",
    "The patient pool comprised of 4 regions:\n",
    "    Southwest\n",
    "    Southeast\n",
    "    Northwest\n",
    "    Northeast \n",
    "\n",
    "The number of patients in each region was:\n",
    "    Southwest: 325\n",
    "    Southeast: 364\n",
    "    Northwest: 325\n",
    "    Northeast: 324\n",
    "\n",
    "The average insurance costs for each region was:\n",
    "    Southwest: 12346,94 Dollars\n",
    "    Southeast: 14735,41 Dollars\n",
    "    Northwest: 12417,58 Dollars\n",
    "    Northeast: 13406,38 Dollars\n",
    "\n",
    "The average BMI for each region was:\n",
    "    Southwest: 30,6\n",
    "    Southeast: 33,36\n",
    "    Northwest: 29,2\n",
    "    Northeast: 29,17\n",
    "\n",
    "The number of smokers in each region was:\n",
    "    Southwest: 58\n",
    "    Southeast: 91\n",
    "    Northwest: 58\n",
    "    Northeast: 67\n",
    "\n",
    "The number of patients with a child/children was:\n",
    "    Southwest: 187\n",
    "    Southeast: 207\n",
    "    Northwest: 193\n",
    "    Northeast: 177\n",
    "\n",
    "**Conclusion**\n",
    "\n",
    "This project involved a comprehensive exploratory data analysis (EDA) of a medical insurance dataset containing 1,338 patient records. Using Python libraries such as Pandas, NumPy, and Matplotlib/Seaborn for data manipulation and visualization, key demographic and cost-related metrics were extracted and analyzed.\n",
    "\n",
    "The dataset was relatively balanced in terms of gender (676 males vs. 662 females), with an overall mean age of 39. The average insurance cost per patient was calculated to be 13270,42 Dollars. Smoking status, regional location, BMI, and number of children were examined as potential factors influencing insurance charges.\n",
    "\n",
    "Regional analysis revealed that the Southeast region had the highest average insurance cost ($14,735.41) and the highest average BMI (33.36), correlating with its higher smoker count (91). In contrast, the Northwest and Northeast had lower average BMIs (29.2 and 29.17 respectively) and more moderate insurance charges. Child dependency also varied across regions, with the Southeast again having the highest number of patients with children (207).\n",
    "\n",
    "These findings suggest that regional differences, lifestyle factors (such as BMI and smoking), and dependents may significantly affect insurance premiums. This project served to strengthen proficiency in data wrangling, descriptive statistics, and data-driven inference using Python, providing a solid foundation for future work in predictive modeling or health risk analytics.\n"
   ]
  }
 ],
 "metadata": {
  "kernelspec": {
   "display_name": "Python [conda env:base] *",
   "language": "python",
   "name": "conda-base-py"
  },
  "language_info": {
   "codemirror_mode": {
    "name": "ipython",
    "version": 3
   },
   "file_extension": ".py",
   "mimetype": "text/x-python",
   "name": "python",
   "nbconvert_exporter": "python",
   "pygments_lexer": "ipython3",
   "version": "3.12.7"
  }
 },
 "nbformat": 4,
 "nbformat_minor": 5
}
